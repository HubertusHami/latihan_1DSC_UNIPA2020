{
 "cells": [
  {
   "cell_type": "markdown",
   "metadata": {},
   "source": [
    "### Percabangan If, Else dan Elif"
   ]
  },
  {
   "cell_type": "markdown",
   "metadata": {},
   "source": [
    "the if pernyataan\n",
    "\n",
    "if condition:\n",
    "    statement1\n",
    "    statement2"
   ]
  },
  {
   "cell_type": "markdown",
   "metadata": {},
   "source": [
    "mari kita coba-coba gessss semoga menyenangkan dan mudah dipahami ya heheheh"
   ]
  },
  {
   "cell_type": "code",
   "execution_count": 2,
   "metadata": {},
   "outputs": [],
   "source": [
    "a_number = 34"
   ]
  },
  {
   "cell_type": "code",
   "execution_count": 4,
   "metadata": {},
   "outputs": [
    {
     "name": "stdout",
     "output_type": "stream",
     "text": [
      "We're inside an if block\n",
      "The given number 34 is even.\n"
     ]
    }
   ],
   "source": [
    "if a_number % 2== 0 :\n",
    "    print(\"We're inside an if block\")\n",
    "    print(\"The given number {} is even.\" .format(a_number))"
   ]
  },
  {
   "cell_type": "markdown",
   "metadata": {},
   "source": [
    "Perhatikan kita menggunakan operasi modulus % untuk menemukan sisa dari pembagian a_number oleh 2, dan kemudian kita menggunakan operator perbandingan, == memeriksa apakah pengingatnya sama dengan 0 menunjukan bilangan tersebut habis dibagi 2 yaitu genap.\n",
    "\n",
    "karena memang 34 tersebut habis dibagi 2 , maka pernyataan di bawah pernyataan tersebut dieksekusi . Perhatikan juga bahwa saya menggunakan metode string untuk memasukkan nomor di dalam pesan, a_number % 2 == 0 True print if format.\n",
    "\n",
    "mari kita coba lagi dengan angka ganjil ya gess "
   ]
  },
  {
   "cell_type": "code",
   "execution_count": 5,
   "metadata": {},
   "outputs": [],
   "source": [
    "nomor_lain = 33\n"
   ]
  },
  {
   "cell_type": "code",
   "execution_count": 6,
   "metadata": {},
   "outputs": [],
   "source": [
    "if nomor_lain % 2 == 0:\n",
    "    print(\"The given number{} is even.\".format(nomor_ganjil))"
   ]
  },
  {
   "cell_type": "markdown",
   "metadata": {},
   "source": [
    "seperti yang  diharapkan karena kondisi nomor_lain  % 2 == 0 berubah menjadi False, maka tidak ada pesan yang  di cetak,,, auuuhhhh kasian juga ya hehheheh"
   ]
  },
  {
   "cell_type": "code",
   "execution_count": null,
   "metadata": {},
   "outputs": [],
   "source": []
  },
  {
   "cell_type": "markdown",
   "metadata": {},
   "source": [
    "## The Else Pernyataan"
   ]
  },
  {
   "cell_type": "markdown",
   "metadata": {},
   "source": [
    "alangkah baiknya jika kita mencetak nomor yang  berbeda jika nomornya tidap atau nomornya ganjir pada metode di atas ya guysss. Ini dapat dilakukan dengan menambahkan else pernyataan, nah modelnya sebagai berikut cekidott;\n",
    "\n"
   ]
  },
  {
   "cell_type": "markdown",
   "metadata": {},
   "source": [
    "if condition"
   ]
  },
  {
   "cell_type": "markdown",
   "metadata": {},
   "source": [
    " statement1\n",
    " statement2\n"
   ]
  },
  {
   "cell_type": "markdown",
   "metadata": {},
   "source": [
    "jika kondisi mengevaluasi ke True, pernyaataan if di block dijalankan, dan jika mengevaluasi ke False pernyataan di else blok di eksekusi"
   ]
  },
  {
   "cell_type": "code",
   "execution_count": 12,
   "metadata": {},
   "outputs": [],
   "source": [
    "a_number = 34"
   ]
  },
  {
   "cell_type": "code",
   "execution_count": 16,
   "metadata": {},
   "outputs": [
    {
     "name": "stdout",
     "output_type": "stream",
     "text": [
      "The given number 34 is even.\n"
     ]
    }
   ],
   "source": [
    "if a_number % 2 == 0:\n",
    "    print(\"The given number {} is even.\".format(a_number))\n",
    "else:\n",
    "    print(\"The given number {} is odd.\".format(a_number))"
   ]
  },
  {
   "cell_type": "code",
   "execution_count": 14,
   "metadata": {},
   "outputs": [],
   "source": [
    "another_number = 33"
   ]
  },
  {
   "cell_type": "code",
   "execution_count": 17,
   "metadata": {},
   "outputs": [
    {
     "name": "stdout",
     "output_type": "stream",
     "text": [
      "The given number 33 is odd.\n"
     ]
    }
   ],
   "source": [
    "if another_number % 2 == 0:\n",
    "    print(\"The given number {} is even.\".format(another_number))\n",
    "else:\n",
    "    print(\"The given number {} is odd.\".format(another_number))"
   ]
  },
  {
   "cell_type": "markdown",
   "metadata": {},
   "source": [
    "Berikutnya contoh menggunakan in operator untuk memeriksa keanggotaan dalam tuple"
   ]
  },
  {
   "cell_type": "code",
   "execution_count": 18,
   "metadata": {},
   "outputs": [],
   "source": [
    "the_3_anakkos = ('Ronal', 'Berto', 'Faldi')"
   ]
  },
  {
   "cell_type": "code",
   "execution_count": 19,
   "metadata": {},
   "outputs": [],
   "source": [
    "a_candidate = \"D'Manggarai\""
   ]
  },
  {
   "cell_type": "code",
   "execution_count": 22,
   "metadata": {},
   "outputs": [
    {
     "name": "stdout",
     "output_type": "stream",
     "text": [
      "D'Manggarai bukan anakkos\n"
     ]
    }
   ],
   "source": [
    "if a_candidate in the_3_anakkos:\n",
    "    print(\"{} termasuk anakkos\".format(a_candidate))\n",
    "else:\n",
    "    print(\"{} bukan anakkos\".format(a_candidate))"
   ]
  },
  {
   "cell_type": "markdown",
   "metadata": {},
   "source": [
    "# Elif Pernyataan"
   ]
  },
  {
   "cell_type": "markdown",
   "metadata": {},
   "source": [
    "Python  juga menyediakan elif loh guyss elif itu  dari else if ya, elif ini berguna untuk merangkai serangkaian blok beryarat.\n",
    "nah kondisinya  akan di evaluasi satu per satu. untuk kondisi yang pertama yang  mengevaluasi adalah True. Pernyataan masing-masing blok di jalankan dan kondisi yang tersisa tidak dievaluasi, jadi dalam rantai if, elif,elif pernyataan, tepat satu blok bersyarat evaluated."
   ]
  },
  {
   "cell_type": "code",
   "execution_count": 24,
   "metadata": {},
   "outputs": [],
   "source": [
    "today = 'Wednesday'"
   ]
  },
  {
   "cell_type": "code",
   "execution_count": 25,
   "metadata": {},
   "outputs": [
    {
     "name": "stdout",
     "output_type": "stream",
     "text": [
      "Today is the day  of Odin, the supreme diety.\n"
     ]
    }
   ],
   "source": [
    "if today == 'Sunday':\n",
    "    print(\"Today of the day of  the Sun.\")\n",
    "elif today == 'Monday':\n",
    "    print(\"Today is the day of  the Moon.\")\n",
    "elif today == 'Tuesday':\n",
    "    print(\"Today is the day of Tyr, the god of war.\")\n",
    "elif today  == 'Wednesday':\n",
    "    print(\"Today is the day  of Odin, the supreme diety.\")\n",
    "elif today == 'Thursday':\n",
    "    print(\"Today  is the day of Thor, the god of thunder.\")\n",
    "elif today == 'Friday':\n",
    "    print(\"Today  is the day of Frigga, the goddes of beauty.\")\n",
    "elif today == 'Saturday':\n",
    "    print(\"Today is the day of Saturn, the god of fun and feasting.\")\n",
    "    \n",
    "    "
   ]
  },
  {
   "cell_type": "markdown",
   "metadata": {},
   "source": [
    "Pada kondisi di atas, 3 kondisi pertama bernilai False, jadi tidak ada 3 pesan yang dicetak dari 3 pertama. Kondisi ke-4 mengevaluasi True sehingga pesan terkait dicetak. Kondisi lainnya dilewati. Coba ubah  nilai di today di atas dan jalankan kembali sel untuk mencetak semua pesan yang berbeda.\n",
    "\n",
    "untuk memverifikasi bahwa kondisi lainnya dilewati mari kita coba contoh lain:"
   ]
  },
  {
   "cell_type": "code",
   "execution_count": 26,
   "metadata": {},
   "outputs": [],
   "source": [
    "today = 'Saturday'"
   ]
  },
  {
   "cell_type": "code",
   "execution_count": 27,
   "metadata": {},
   "outputs": [
    {
     "name": "stdout",
     "output_type": "stream",
     "text": [
      "Today is the day of Saturn, the god of fun and feasting.\n"
     ]
    }
   ],
   "source": [
    "if today == 'Sunday':\n",
    "    print(\"Today of the day of  the Sun.\")\n",
    "elif today == 'Monday':\n",
    "    print(\"Today is the day of  the Moon.\")\n",
    "elif today == 'Tuesday':\n",
    "    print(\"Today is the day of Tyr, the god of war.\")\n",
    "elif today  == 'Wednesday':\n",
    "    print(\"Today is the day  of Odin, the supreme diety.\")\n",
    "elif today == 'Thursday':\n",
    "    print(\"Today  is the day of Thor, the god of thunder.\")\n",
    "elif today == 'Friday':\n",
    "    print(\"Today  is the day of Frigga, the goddes of beauty.\")\n",
    "elif today == 'Saturday':\n",
    "    print(\"Today is the day of Saturn, the god of fun and feasting.\")\n",
    "    "
   ]
  },
  {
   "cell_type": "code",
   "execution_count": 29,
   "metadata": {},
   "outputs": [],
   "source": [
    "# Contoh lain\n",
    "a_number = 15"
   ]
  },
  {
   "cell_type": "code",
   "execution_count": 30,
   "metadata": {},
   "outputs": [
    {
     "name": "stdout",
     "output_type": "stream",
     "text": [
      "15 is dividible by 3\n"
     ]
    }
   ],
   "source": [
    "if a_number % 2 == 0:\n",
    "    print(\"{} divisible by 2\".format(a_number))\n",
    "elif a_number % 3 == 0:\n",
    "    print(\"{} is dividible by 3\".format(a_number))\n",
    "elif a_number % 5 == 0:\n",
    "    print(\"{}is divisible by 5\".format(a_number))\n",
    "elif a_number % 7 == 0:\n",
    "    print(\"{} is the divisible by 7\".format(a_number))\n"
   ]
  },
  {
   "cell_type": "markdown",
   "metadata": {},
   "source": [
    "pada evaluasi di atas hanya angka 3 yang menghasilkan nilai, kenapa pada nilai 5 tidak bisa dievaluasi karena sudah ada angka 3. karena pada syarat utama di atas tadi tidak ada pengulangan"
   ]
  },
  {
   "cell_type": "code",
   "execution_count": 31,
   "metadata": {},
   "outputs": [
    {
     "name": "stdout",
     "output_type": "stream",
     "text": [
      "15 habis dibagi 3\n",
      "15habis dibagi 5\n"
     ]
    }
   ],
   "source": [
    "if a_number % 2 ==0:\n",
    "    print(\"{} habis dibagi 2\".format(a_number))\n",
    "if a_number % 3 ==0:\n",
    "    print(\"{} habis dibagi 3\".format(a_number))\n",
    "if a_number % 5 ==0:\n",
    "    print(\"{}habis dibagi 5\".format(a_number))\n",
    "if a_number % 7 == 0:\n",
    "    print(\"{} habis dibagi 7\".format(a_number))"
   ]
  },
  {
   "cell_type": "markdown",
   "metadata": {},
   "source": [
    "Pada data di atas, karena menggunakan if pernyataan dimana semua nilai yang dievaluasi harus independen"
   ]
  },
  {
   "cell_type": "markdown",
   "metadata": {},
   "source": [
    "## Menggunakan if, elif, else bersama-sama "
   ]
  },
  {
   "cell_type": "markdown",
   "metadata": {},
   "source": [
    "blok else akan dievaluasi ketika tidak ada kondisi yang benar"
   ]
  },
  {
   "cell_type": "code",
   "execution_count": 32,
   "metadata": {},
   "outputs": [],
   "source": [
    "nomor_antri = 45"
   ]
  },
  {
   "cell_type": "code",
   "execution_count": 34,
   "metadata": {},
   "outputs": [
    {
     "name": "stdout",
     "output_type": "stream",
     "text": [
      "45 habis dibagi 3\n"
     ]
    }
   ],
   "source": [
    "if nomor_antri % 2 ==0:\n",
    "    print(\"{} habis dibagi 2\".format(nomor_antri))\n",
    "elif nomor_antri % 3 == 0:\n",
    "    print(\"{} habis dibagi 3\".format(nomor_antri))\n",
    "elif nomor_antri % 5 == 0:\n",
    "    print(\"{}habis dibagi 5\".format(nomor_antri))\n",
    "else:\n",
    "    print(\"Semua sudah di cek\")\n",
    "    print(\"{} semua  pernyataan di atas tidak habis dibagi 2,3,5\".format(nomor_antry))"
   ]
  },
  {
   "cell_type": "markdown",
   "metadata": {},
   "source": [
    "Kondisi di atas juga dapat digabungkan dengan operator logika and,or,not."
   ]
  },
  {
   "cell_type": "code",
   "execution_count": 35,
   "metadata": {},
   "outputs": [],
   "source": [
    "a_number = 20"
   ]
  },
  {
   "cell_type": "code",
   "execution_count": 36,
   "metadata": {},
   "outputs": [
    {
     "name": "stdout",
     "output_type": "stream",
     "text": [
      "Nomor anda 20 bisa dibagi 2 dan 4\n"
     ]
    }
   ],
   "source": [
    "if a_number % 2 == 0 and a_number % 4 == 0: \n",
    "    print(\"Nomor anda {} bisa dibagi 2 dan 4\".format(a_number))\n",
    "elif not a_number % 5 == 0:\n",
    "    print(\"Nomor anda {} tidak bisa dibagi dengan 5\".format(a_number))"
   ]
  },
  {
   "cell_type": "code",
   "execution_count": null,
   "metadata": {},
   "outputs": [],
   "source": []
  },
  {
   "cell_type": "markdown",
   "metadata": {},
   "source": [
    "## Kondisi Non-Boolean\n"
   ]
  },
  {
   "cell_type": "code",
   "execution_count": 37,
   "metadata": {},
   "outputs": [
    {
     "name": "stdout",
     "output_type": "stream",
     "text": [
      "Kondisi tidak bisa dikatakan benar atau kondisinya salah\n"
     ]
    }
   ],
   "source": [
    "if '':\n",
    "    print(\"Kondisi bisa dikatakan benar\")\n",
    "else:\n",
    "    print(\"Kondisi tidak bisa dikatakan benar atau kondisinya salah\")"
   ]
  },
  {
   "cell_type": "code",
   "execution_count": 38,
   "metadata": {},
   "outputs": [
    {
     "name": "stdout",
     "output_type": "stream",
     "text": [
      "Kondisinya sudah benar\n"
     ]
    }
   ],
   "source": [
    "if 'Kompromi':\n",
    "    print(\"Kondisinya sudah benar\")\n",
    "else:\n",
    "    print(\"Kondisi yang  anda masukkan salah, Bhambang!!\")"
   ]
  },
  {
   "cell_type": "code",
   "execution_count": 41,
   "metadata": {},
   "outputs": [
    {
     "name": "stdout",
     "output_type": "stream",
     "text": [
      "Operator yang anda gunakan masih bisa dievaluasi\n"
     ]
    }
   ],
   "source": [
    "if {'a':34}:\n",
    "    print(\"Operator yang anda gunakan masih bisa dievaluasi\")\n",
    "else:\n",
    "    print(\"Operator yang anda gunakan masih belum bisa dievaluasi\")"
   ]
  },
  {
   "cell_type": "code",
   "execution_count": 42,
   "metadata": {},
   "outputs": [
    {
     "name": "stdout",
     "output_type": "stream",
     "text": [
      "Anda tidak mau memasukkan saya\n"
     ]
    }
   ],
   "source": [
    "if None:\n",
    "    print(\"Anda mau memasukkan saya kemana?\")\n",
    "else:\n",
    "    print(\"Anda tidak mau memasukkan saya\")"
   ]
  },
  {
   "cell_type": "markdown",
   "metadata": {},
   "source": [
    "Pada Pernyataan di atas, jika pernyataan yang anda tulis masih True maka outputnya dari fungsi if, jika pernyataan yang anda masukkan masih False Maka outputnya berasal dari Else "
   ]
  },
  {
   "cell_type": "code",
   "execution_count": null,
   "metadata": {},
   "outputs": [],
   "source": []
  },
  {
   "cell_type": "code",
   "execution_count": null,
   "metadata": {},
   "outputs": [],
   "source": []
  },
  {
   "cell_type": "code",
   "execution_count": null,
   "metadata": {},
   "outputs": [],
   "source": []
  },
  {
   "cell_type": "markdown",
   "metadata": {},
   "source": [
    "## Pernyataan bersyarat bersarang "
   ]
  },
  {
   "cell_type": "markdown",
   "metadata": {},
   "source": [
    "pada pernyataan bersyarat bersarang ini menggunakan if pernyataan. Pola ini dipanggil nesting dan akan memeriksa kondisi lain ketika kondisi tertentu dievaluasi sebagai benar."
   ]
  },
  {
   "cell_type": "code",
   "execution_count": 43,
   "metadata": {},
   "outputs": [],
   "source": [
    "kode = 10"
   ]
  },
  {
   "cell_type": "code",
   "execution_count": 44,
   "metadata": {},
   "outputs": [
    {
     "name": "stdout",
     "output_type": "stream",
     "text": [
      "10 itu terjadi\n",
      "10 tidak bisa dibagi 3\n"
     ]
    }
   ],
   "source": [
    "if kode % 2 == 0:\n",
    "    print(\"{} itu terjadi\".format(kode))\n",
    "    if kode % 3 == 0:\n",
    "        print(\"{} juga bisa habis dibagi 3\".formar(kode))\n",
    "    else:\n",
    "        print(\"{} tidak bisa dibagi 3\".format(kode))\n",
    "        \n",
    "else: \n",
    "    print(\"is odd\".format(kode))\n",
    "    if kode % 5 == 0:\n",
    "        print(\"{} juga bisa dibagi 5\".format(kode))\n",
    "    else:\n",
    "        print(\"{} juga tidak bisa dibagi dengan 5\".format(5))\n",
    "    "
   ]
  },
  {
   "cell_type": "markdown",
   "metadata": {},
   "source": [
    "# If Ekspresi bersyarat tingkatan"
   ]
  },
  {
   "cell_type": "markdown",
   "metadata": {},
   "source": [
    "pada kasus ini berdasarkan pada pengajuan if sendiri dan pengaturan variabel berdasarkan nilai dari variabel itu sendiri."
   ]
  },
  {
   "cell_type": "code",
   "execution_count": 45,
   "metadata": {},
   "outputs": [],
   "source": [
    "kelas = 3"
   ]
  },
  {
   "cell_type": "code",
   "execution_count": 50,
   "metadata": {},
   "outputs": [
    {
     "name": "stdout",
     "output_type": "stream",
     "text": [
      "Kelas 3 adalah odd \n"
     ]
    }
   ],
   "source": [
    "if kelas % 2 == 0:\n",
    "    parity = 'even'\n",
    "else:\n",
    "    parity ='odd'\n",
    "        \n",
    "print(\"Kelas {} adalah {} \".format(kelas, parity))"
   ]
  },
  {
   "cell_type": "code",
   "execution_count": 51,
   "metadata": {},
   "outputs": [],
   "source": [
    "parity = 'even' if kelas % 2 ==0 else 'odd'"
   ]
  },
  {
   "cell_type": "code",
   "execution_count": 53,
   "metadata": {},
   "outputs": [
    {
     "name": "stdout",
     "output_type": "stream",
     "text": [
      "Kelas 3 adalah odd.\n"
     ]
    }
   ],
   "source": [
    "print('Kelas {} adalah {}.'.format(kelas,parity))"
   ]
  },
  {
   "cell_type": "markdown",
   "metadata": {},
   "source": [
    "# Pernyataan dan Ekspressi"
   ]
  },
  {
   "cell_type": "markdown",
   "metadata": {},
   "source": [
    "Pernyataan adalah instruksi yang dapat dieksekusi. setiap baris kode yang kita tulis sejauh ini adalah pernyataan misalnya, variabel, memanggil fungsi. pernyataan bersyarat menggunakan if, else, dan elif, dan menggunakan loop for dan while dan lain-lain.\n",
    "\n",
    "Ekspresi adalah beberapa kode yang mengevaluasi suatu nilai. contohnya termasuk dari nilai tipe variabel yang berbeda, ekspresi aritmatika, kondisi, variabel, pemanggilan fungsi, ekspresi bersyarat dan lain-lain."
   ]
  },
  {
   "cell_type": "markdown",
   "metadata": {},
   "source": [
    "Sebagian ekspresi dapat dieksekusi sebagai pernyataan, tetapi tidak semua pernyataan adalah  ekspresi misalnya if pernyataan tersebut bukan ekspresi karena tidak menunjukan nilainya, ia hanya melakukan beberapa braching dalam kode. demikian loop dan definisi fungsi bukanlah ekspresi.\n",
    "\n",
    "sebagai bahan umum bahwa ekspresi adalah sesuatu yang ada di sebelah  kanan \"=\" . kita dapat menggunakan ini untuk mencoba untuk memeriksa apakah termasuk ekspresi atau bukan.\n",
    "cekidottt"
   ]
  },
  {
   "cell_type": "code",
   "execution_count": 54,
   "metadata": {},
   "outputs": [
    {
     "ename": "SyntaxError",
     "evalue": "invalid syntax (<ipython-input-54-df7cd86a30f4>, line 2)",
     "output_type": "error",
     "traceback": [
      "\u001b[1;36m  File \u001b[1;32m\"<ipython-input-54-df7cd86a30f4>\"\u001b[1;36m, line \u001b[1;32m2\u001b[0m\n\u001b[1;33m    result = if kelas % 2 == 0:\u001b[0m\n\u001b[1;37m             ^\u001b[0m\n\u001b[1;31mSyntaxError\u001b[0m\u001b[1;31m:\u001b[0m invalid syntax\n"
     ]
    }
   ],
   "source": [
    "#if statement\n",
    "result = if kelas % 2 == 0:\n",
    "    'even'\n",
    "else:\n",
    "    'odd'"
   ]
  },
  {
   "cell_type": "code",
   "execution_count": 55,
   "metadata": {},
   "outputs": [],
   "source": [
    "# if expression \n",
    "result ='even' if kelas % 2 == 0 else 'odd'"
   ]
  },
  {
   "cell_type": "markdown",
   "metadata": {},
   "source": [
    "# The pas pernyataan \n",
    "if tidak boleh kosong harus ada setidaknya satu pernyataan disetiap if, dan elif, . anda dapat menggunakan pass, pernyataan tersebut untuk tidak melakukan apapun dan menghindari kesalahan"
   ]
  },
  {
   "cell_type": "code",
   "execution_count": 56,
   "metadata": {},
   "outputs": [],
   "source": [
    "a_number = 9"
   ]
  },
  {
   "cell_type": "code",
   "execution_count": 57,
   "metadata": {},
   "outputs": [
    {
     "ename": "SyntaxError",
     "evalue": "invalid syntax (<ipython-input-57-2dee0af4bccb>, line 2)",
     "output_type": "error",
     "traceback": [
      "\u001b[1;36m  File \u001b[1;32m\"<ipython-input-57-2dee0af4bccb>\"\u001b[1;36m, line \u001b[1;32m2\u001b[0m\n\u001b[1;33m    elif a_number % 3 == 0:\u001b[0m\n\u001b[1;37m    ^\u001b[0m\n\u001b[1;31mSyntaxError\u001b[0m\u001b[1;31m:\u001b[0m invalid syntax\n"
     ]
    }
   ],
   "source": [
    "if a_number % 2 == 0:\n",
    "    elif a_number % 3 == 0:\n",
    "        print('{} is divisible by 3 but not divisible by 2')"
   ]
  },
  {
   "cell_type": "code",
   "execution_count": 58,
   "metadata": {},
   "outputs": [
    {
     "name": "stdout",
     "output_type": "stream",
     "text": [
      "9 is divisible by 3 not divisible 2\n"
     ]
    }
   ],
   "source": [
    "if a_number % 2 == 0:\n",
    "    pass\n",
    "elif a_number % 3 == 0:\n",
    "    print('{} is divisible by 3 not divisible 2'.format(a_number))"
   ]
  },
  {
   "cell_type": "code",
   "execution_count": null,
   "metadata": {},
   "outputs": [],
   "source": []
  }
 ],
 "metadata": {
  "kernelspec": {
   "display_name": "Python 3",
   "language": "python",
   "name": "python3"
  },
  "language_info": {
   "codemirror_mode": {
    "name": "ipython",
    "version": 3
   },
   "file_extension": ".py",
   "mimetype": "text/x-python",
   "name": "python",
   "nbconvert_exporter": "python",
   "pygments_lexer": "ipython3",
   "version": "3.8.3"
  }
 },
 "nbformat": 4,
 "nbformat_minor": 4
}
