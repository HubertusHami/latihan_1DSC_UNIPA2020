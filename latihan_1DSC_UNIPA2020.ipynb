{
 "cells": [
  {
   "cell_type": "code",
   "execution_count": 1,
   "metadata": {},
   "outputs": [
    {
     "name": "stdout",
     "output_type": "stream",
     "text": [
      "Hubertus Hami\n"
     ]
    }
   ],
   "source": [
    "print(\"Hubertus Hami\")\n"
   ]
  },
  {
   "cell_type": "code",
   "execution_count": 2,
   "metadata": {},
   "outputs": [
    {
     "name": "stdout",
     "output_type": "stream",
     "text": [
      "<class 'list'>\n"
     ]
    }
   ],
   "source": [
    "var1 = [1, 2, 3, 4]\n",
    "print(type(var1))"
   ]
  },
  {
   "cell_type": "code",
   "execution_count": 3,
   "metadata": {},
   "outputs": [
    {
     "name": "stdout",
     "output_type": "stream",
     "text": [
      "Angka 0\n",
      "Angka 1\n",
      "Angka 2\n",
      "Angka 3\n",
      "Angka 4\n",
      "Angka 5\n",
      "Angka 6\n",
      "Angka 7\n",
      "Angka 8\n",
      "Angka 9\n",
      "Angka lebih besar dari 5\n"
     ]
    }
   ],
   "source": [
    "i = 0\n",
    "while i < 10:\n",
    "    print(\"Angka\", i)\n",
    "    i += 1\n",
    "else:\n",
    "    print(\"Angka lebih besar dari 5\")"
   ]
  },
  {
   "cell_type": "code",
   "execution_count": 4,
   "metadata": {},
   "outputs": [
    {
     "name": "stdout",
     "output_type": "stream",
     "text": [
      "59\n"
     ]
    },
    {
     "data": {
      "text/plain": [
       "int"
      ]
     },
     "execution_count": 4,
     "metadata": {},
     "output_type": "execute_result"
    }
   ],
   "source": [
    "# integer\n",
    "\n",
    "num = 59\n",
    "print(num)\n",
    "type(num)\n"
   ]
  },
  {
   "cell_type": "code",
   "execution_count": 5,
   "metadata": {},
   "outputs": [
    {
     "name": "stdout",
     "output_type": "stream",
     "text": [
      "angka adalah kurang dari 20\n"
     ]
    }
   ],
   "source": [
    "# Konndisional statement\n",
    "angka = 5\n",
    "if angka == 20:\n",
    "    print(\"angka adalah 20\")\n",
    "elif angka < 20:\n",
    "    print(\"angka adalah kurang dari 20\")\n",
    "else:\n",
    "    print(\"angka adalah lebih dari 20\")"
   ]
  },
  {
   "cell_type": "code",
   "execution_count": 6,
   "metadata": {},
   "outputs": [
    {
     "name": "stdout",
     "output_type": "stream",
     "text": [
      "[[11.25, 18.0, 20.0], [10.75, 9.5]]\n"
     ]
    }
   ],
   "source": [
    "first = [11.25, 18.0, 20.0]\n",
    "second = [10.75, 9.50]\n",
    "full = [first, second]\n",
    "print(full)"
   ]
  },
  {
   "cell_type": "code",
   "execution_count": 7,
   "metadata": {},
   "outputs": [
    {
     "name": "stdout",
     "output_type": "stream",
     "text": [
      "[[10.75, 9.5], [11.25, 18.0, 20.0]]\n"
     ]
    }
   ],
   "source": [
    "print(sorted(full))"
   ]
  },
  {
   "cell_type": "code",
   "execution_count": 10,
   "metadata": {},
   "outputs": [
    {
     "name": "stdout",
     "output_type": "stream",
     "text": [
      "20.0\n"
     ]
    }
   ],
   "source": [
    "# list area\n",
    "area = [11.25, 18.0, 20.0, 10.75, 9.50]\n",
    "\n",
    "#Kita ingin mengambil index 20.0\n",
    "\n",
    "print (area[2])"
   ]
  },
  {
   "cell_type": "code",
   "execution_count": null,
   "metadata": {},
   "outputs": [],
   "source": []
  }
 ],
 "metadata": {
  "kernelspec": {
   "display_name": "Python 3",
   "language": "python",
   "name": "python3"
  },
  "language_info": {
   "codemirror_mode": {
    "name": "ipython",
    "version": 3
   },
   "file_extension": ".py",
   "mimetype": "text/x-python",
   "name": "python",
   "nbconvert_exporter": "python",
   "pygments_lexer": "ipython3",
   "version": "3.8.3"
  }
 },
 "nbformat": 4,
 "nbformat_minor": 4
}
